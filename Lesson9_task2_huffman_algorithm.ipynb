{
  "nbformat": 4,
  "nbformat_minor": 0,
  "metadata": {
    "colab": {
      "name": "Lesson9_task2_huffman_algorithm.ipynb",
      "provenance": [],
      "collapsed_sections": [],
      "authorship_tag": "ABX9TyOp8GRiLG/NtH3aiGFQKZqM",
      "include_colab_link": true
    },
    "kernelspec": {
      "name": "python3",
      "display_name": "Python 3"
    },
    "language_info": {
      "name": "python"
    }
  },
  "cells": [
    {
      "cell_type": "markdown",
      "metadata": {
        "id": "view-in-github",
        "colab_type": "text"
      },
      "source": [
        "<a href=\"https://colab.research.google.com/github/alina-bogdanovskaya/Algorithms-and-Data-Structures-Python-/blob/lesson9/Lesson9_task2_huffman_algorithm.ipynb\" target=\"_parent\"><img src=\"https://colab.research.google.com/assets/colab-badge.svg\" alt=\"Open In Colab\"/></a>"
      ]
    },
    {
      "cell_type": "markdown",
      "source": [
        "2. Закодируйте любую строку по алгоритму Хаффмана."
      ],
      "metadata": {
        "id": "wjtsjcMuzi6Y"
      }
    },
    {
      "cell_type": "code",
      "execution_count": null,
      "metadata": {
        "id": "wUvvWsd6zb37"
      },
      "outputs": [],
      "source": [
        "!pip install binarytree"
      ]
    },
    {
      "cell_type": "code",
      "source": [
        "from collections import Counter\n",
        "from binarytree import Node"
      ],
      "metadata": {
        "id": "ve_ycHwI0JrR"
      },
      "execution_count": 1,
      "outputs": []
    },
    {
      "cell_type": "code",
      "source": [
        "class MyNode:\n",
        "  def __init__(self, symbol, value, left=None, right=None):\n",
        "    self.symbol = symbol\n",
        "    self.value = value\n",
        "    self.left = left\n",
        "    self.right = right\n",
        "\n",
        "  def __str__(self):\n",
        "    return f'Symbol: {self.symbol}, value: {self.value}'\n",
        "\n",
        "  def __repr__(self):\n",
        "    return f'Symbol: {self.symbol}, value: {self.value}'"
      ],
      "metadata": {
        "id": "VhQbalEp0Av9"
      },
      "execution_count": 2,
      "outputs": []
    },
    {
      "cell_type": "code",
      "source": [
        "def convert_tree(node):\n",
        "  if node is None:\n",
        "    return None\n",
        "  bt_node = Node(f'{node.symbol}: {node.value}', convert_tree(node.left), convert_tree(node.right))\n",
        "  return bt_node\n"
      ],
      "metadata": {
        "id": "INWN7Ayh0ydr"
      },
      "execution_count": 3,
      "outputs": []
    },
    {
      "cell_type": "code",
      "source": [
        "def Huffman_coding(string):\n",
        "  node_list = Counter(string).most_common()\n",
        "  node_list.reverse()\n",
        "\n",
        "  for i, item in enumerate(node_list):\n",
        "    node_list[i] = MyNode(item[0], item[1])\n",
        "  # print node_list\n",
        "\n",
        "  if len(node_list) == 1:\n",
        "    node_list.append(MyNode(None, 1))\n",
        "    node_list[1].left = node_list[0]\n",
        "    root = node_list[1]\n",
        "\n",
        "  else:\n",
        "    while len(node_list) > 1:\n",
        "      first_min = node_list.pop(0)\n",
        "      second_min = node_list.pop(0)\n",
        "      new_node = MyNode(None, first_min.value + second_min.value, first_min, second_min)\n",
        "\n",
        "      for i, item in enumerate(node_list):\n",
        "        if new_node.value <= item.value:\n",
        "          node_list.insert(i, new_node)\n",
        "          break\n",
        "      \n",
        "      else:\n",
        "        node_list.append(new_node)\n",
        "        \n",
        "      root = node_list[0] \n",
        "\n",
        "  code_dict = {}\n",
        "\n",
        "  def coding(node, path=''):\n",
        "    \n",
        "    if node.left is None and node.right is None:\n",
        "      code_dict[node.symbol] = path\n",
        "\n",
        "    if node.left:\n",
        "      coding(node.left, path+'0')\n",
        "\n",
        "    if node.right:\n",
        "      coding(node.right, path+'1')\n",
        "\n",
        "    return code_dict  \n",
        "\n",
        "  my_codes = coding(root)\n",
        "  coded_str = ''\n",
        "  \n",
        "  for i in string:\n",
        "    coded_str += my_codes[i]\n",
        "\n",
        "  return root, coded_str"
      ],
      "metadata": {
        "id": "k-iiaWjjWTiV"
      },
      "execution_count": 9,
      "outputs": []
    },
    {
      "cell_type": "code",
      "source": [
        "my_string = 'I scream for ice cream'\n",
        "\n",
        "coded_string = Huffman_coding(my_string)[1]\n",
        "root = Huffman_coding(my_string)[0]\n",
        "print(coded_string)\n",
        "\n",
        "convert_tree(root)"
      ],
      "metadata": {
        "colab": {
          "base_uri": "https://localhost:8080/",
          "height": 586
        },
        "id": "hC6OiT3WlVqF",
        "outputId": "1d6cedfe-1d84-4101-fd82-214d6aecc6f7"
      },
      "execution_count": 25,
      "outputs": [
        {
          "output_type": "stream",
          "name": "stdout",
          "text": [
            "0110000111111010110001011110001110111011010011100110100001101011000101111\n"
          ]
        },
        {
          "output_type": "execute_result",
          "data": {
            "text/plain": [
              "Node(None: 22)"
            ],
            "image/svg+xml": "<?xml version=\"1.0\" encoding=\"UTF-8\" standalone=\"no\"?>\n<!DOCTYPE svg PUBLIC \"-//W3C//DTD SVG 1.1//EN\"\n \"http://www.w3.org/Graphics/SVG/1.1/DTD/svg11.dtd\">\n<!-- Generated by graphviz version 2.40.1 (20161225.0304)\n -->\n<!-- Title: %3 Pages: 1 -->\n<svg width=\"697pt\" height=\"410pt\"\n viewBox=\"0.00 0.00 696.50 410.00\" xmlns=\"http://www.w3.org/2000/svg\" xmlns:xlink=\"http://www.w3.org/1999/xlink\">\n<g id=\"graph0\" class=\"graph\" transform=\"scale(1 1) rotate(0) translate(4 406)\">\n<title>%3</title>\n<polygon fill=\"#ffffff\" stroke=\"transparent\" points=\"-4,4 -4,-406 692.5,-406 692.5,4 -4,4\"/>\n<!-- 139654775612368 -->\n<g id=\"node1\" class=\"node\">\n<title>139654775612368</title>\n<path fill=\"#d3d3d3\" stroke=\"#d3d3d3\" d=\"M196.5,-365.5C196.5,-365.5 283.5,-365.5 283.5,-365.5 289.5,-365.5 295.5,-371.5 295.5,-377.5 295.5,-377.5 295.5,-389.5 295.5,-389.5 295.5,-395.5 289.5,-401.5 283.5,-401.5 283.5,-401.5 196.5,-401.5 196.5,-401.5 190.5,-401.5 184.5,-395.5 184.5,-389.5 184.5,-389.5 184.5,-377.5 184.5,-377.5 184.5,-371.5 190.5,-365.5 196.5,-365.5\"/>\n<text text-anchor=\"middle\" x=\"194.5\" y=\"-379.8\" font-family=\"Times,serif\" font-size=\"14.00\" fill=\"#000000\"> </text>\n<polyline fill=\"none\" stroke=\"#d3d3d3\" points=\"204.5,-365.5 204.5,-401.5 \"/>\n<text text-anchor=\"middle\" x=\"240\" y=\"-379.8\" font-family=\"Times,serif\" font-size=\"14.00\" fill=\"#000000\">None: 22</text>\n<polyline fill=\"none\" stroke=\"#d3d3d3\" points=\"275.5,-365.5 275.5,-401.5 \"/>\n<text text-anchor=\"middle\" x=\"285.5\" y=\"-379.8\" font-family=\"Times,serif\" font-size=\"14.00\" fill=\"#000000\"> </text>\n</g>\n<!-- 139654911974032 -->\n<g id=\"node2\" class=\"node\">\n<title>139654911974032</title>\n<path fill=\"#d3d3d3\" stroke=\"#d3d3d3\" d=\"M60.5,-292.5C60.5,-292.5 139.5,-292.5 139.5,-292.5 145.5,-292.5 151.5,-298.5 151.5,-304.5 151.5,-304.5 151.5,-316.5 151.5,-316.5 151.5,-322.5 145.5,-328.5 139.5,-328.5 139.5,-328.5 60.5,-328.5 60.5,-328.5 54.5,-328.5 48.5,-322.5 48.5,-316.5 48.5,-316.5 48.5,-304.5 48.5,-304.5 48.5,-298.5 54.5,-292.5 60.5,-292.5\"/>\n<text text-anchor=\"middle\" x=\"58.5\" y=\"-306.8\" font-family=\"Times,serif\" font-size=\"14.00\" fill=\"#000000\"> </text>\n<polyline fill=\"none\" stroke=\"#d3d3d3\" points=\"68.5,-292.5 68.5,-328.5 \"/>\n<text text-anchor=\"middle\" x=\"100\" y=\"-306.8\" font-family=\"Times,serif\" font-size=\"14.00\" fill=\"#000000\">None: 9</text>\n<polyline fill=\"none\" stroke=\"#d3d3d3\" points=\"131.5,-292.5 131.5,-328.5 \"/>\n<text text-anchor=\"middle\" x=\"141.5\" y=\"-306.8\" font-family=\"Times,serif\" font-size=\"14.00\" fill=\"#000000\"> </text>\n</g>\n<!-- 139654775612368&#45;&gt;139654911974032 -->\n<g id=\"edge1\" class=\"edge\">\n<title>139654775612368:l&#45;&gt;139654911974032:v</title>\n<path fill=\"none\" stroke=\"#000000\" d=\"M194,-365.5C194,-324.6361 116.1319,-364.6996 102.1399,-338.3773\"/>\n<polygon fill=\"#000000\" stroke=\"#000000\" points=\"105.5381,-337.5321 100,-328.5 98.6968,-339.0144 105.5381,-337.5321\"/>\n</g>\n<!-- 139654775612624 -->\n<g id=\"node3\" class=\"node\">\n<title>139654775612624</title>\n<path fill=\"#d3d3d3\" stroke=\"#d3d3d3\" d=\"M342.5,-292.5C342.5,-292.5 429.5,-292.5 429.5,-292.5 435.5,-292.5 441.5,-298.5 441.5,-304.5 441.5,-304.5 441.5,-316.5 441.5,-316.5 441.5,-322.5 435.5,-328.5 429.5,-328.5 429.5,-328.5 342.5,-328.5 342.5,-328.5 336.5,-328.5 330.5,-322.5 330.5,-316.5 330.5,-316.5 330.5,-304.5 330.5,-304.5 330.5,-298.5 336.5,-292.5 342.5,-292.5\"/>\n<text text-anchor=\"middle\" x=\"340.5\" y=\"-306.8\" font-family=\"Times,serif\" font-size=\"14.00\" fill=\"#000000\"> </text>\n<polyline fill=\"none\" stroke=\"#d3d3d3\" points=\"350.5,-292.5 350.5,-328.5 \"/>\n<text text-anchor=\"middle\" x=\"386\" y=\"-306.8\" font-family=\"Times,serif\" font-size=\"14.00\" fill=\"#000000\">None: 13</text>\n<polyline fill=\"none\" stroke=\"#d3d3d3\" points=\"421.5,-292.5 421.5,-328.5 \"/>\n<text text-anchor=\"middle\" x=\"431.5\" y=\"-306.8\" font-family=\"Times,serif\" font-size=\"14.00\" fill=\"#000000\"> </text>\n</g>\n<!-- 139654775612368&#45;&gt;139654775612624 -->\n<g id=\"edge2\" class=\"edge\">\n<title>139654775612368:r&#45;&gt;139654775612624:v</title>\n<path fill=\"none\" stroke=\"#000000\" d=\"M286,-365.5C286,-322.1834 369.551,-366.7352 383.9114,-338.5209\"/>\n<polygon fill=\"#000000\" stroke=\"#000000\" points=\"387.3859,-339.0038 386,-328.5 380.5331,-337.5754 387.3859,-339.0038\"/>\n</g>\n<!-- 139654775713872 -->\n<g id=\"node4\" class=\"node\">\n<title>139654775713872</title>\n<path fill=\"#d3d3d3\" stroke=\"#d3d3d3\" d=\"M12,-219.5C12,-219.5 60,-219.5 60,-219.5 66,-219.5 72,-225.5 72,-231.5 72,-231.5 72,-243.5 72,-243.5 72,-249.5 66,-255.5 60,-255.5 60,-255.5 12,-255.5 12,-255.5 6,-255.5 0,-249.5 0,-243.5 0,-243.5 0,-231.5 0,-231.5 0,-225.5 6,-219.5 12,-219.5\"/>\n<text text-anchor=\"middle\" x=\"10\" y=\"-233.8\" font-family=\"Times,serif\" font-size=\"14.00\" fill=\"#000000\"> </text>\n<polyline fill=\"none\" stroke=\"#d3d3d3\" points=\"20,-219.5 20,-255.5 \"/>\n<text text-anchor=\"middle\" x=\"36\" y=\"-233.8\" font-family=\"Times,serif\" font-size=\"14.00\" fill=\"#000000\">: 4</text>\n<polyline fill=\"none\" stroke=\"#d3d3d3\" points=\"52,-219.5 52,-255.5 \"/>\n<text text-anchor=\"middle\" x=\"62\" y=\"-233.8\" font-family=\"Times,serif\" font-size=\"14.00\" fill=\"#000000\"> </text>\n</g>\n<!-- 139654911974032&#45;&gt;139654775713872 -->\n<g id=\"edge3\" class=\"edge\">\n<title>139654911974032:l&#45;&gt;139654775713872:v</title>\n<path fill=\"none\" stroke=\"#000000\" d=\"M58,-292.5C58,-277.4038 44.3024,-275.0062 38.5237,-265.2672\"/>\n<polygon fill=\"#000000\" stroke=\"#000000\" points=\"41.8905,-264.3064 36,-255.5 35.113,-266.0576 41.8905,-264.3064\"/>\n</g>\n<!-- 139654911973648 -->\n<g id=\"node5\" class=\"node\">\n<title>139654911973648</title>\n<path fill=\"#d3d3d3\" stroke=\"#d3d3d3\" d=\"M102.5,-219.5C102.5,-219.5 181.5,-219.5 181.5,-219.5 187.5,-219.5 193.5,-225.5 193.5,-231.5 193.5,-231.5 193.5,-243.5 193.5,-243.5 193.5,-249.5 187.5,-255.5 181.5,-255.5 181.5,-255.5 102.5,-255.5 102.5,-255.5 96.5,-255.5 90.5,-249.5 90.5,-243.5 90.5,-243.5 90.5,-231.5 90.5,-231.5 90.5,-225.5 96.5,-219.5 102.5,-219.5\"/>\n<text text-anchor=\"middle\" x=\"100.5\" y=\"-233.8\" font-family=\"Times,serif\" font-size=\"14.00\" fill=\"#000000\"> </text>\n<polyline fill=\"none\" stroke=\"#d3d3d3\" points=\"110.5,-219.5 110.5,-255.5 \"/>\n<text text-anchor=\"middle\" x=\"142\" y=\"-233.8\" font-family=\"Times,serif\" font-size=\"14.00\" fill=\"#000000\">None: 5</text>\n<polyline fill=\"none\" stroke=\"#d3d3d3\" points=\"173.5,-219.5 173.5,-255.5 \"/>\n<text text-anchor=\"middle\" x=\"183.5\" y=\"-233.8\" font-family=\"Times,serif\" font-size=\"14.00\" fill=\"#000000\"> </text>\n</g>\n<!-- 139654911974032&#45;&gt;139654911973648 -->\n<g id=\"edge4\" class=\"edge\">\n<title>139654911974032:r&#45;&gt;139654911973648:v</title>\n<path fill=\"none\" stroke=\"#000000\" d=\"M142,-292.5C142,-280.0382 142,-274.6592 142,-265.6281\"/>\n<polygon fill=\"#000000\" stroke=\"#000000\" points=\"145.5001,-265.5 142,-255.5 138.5001,-265.5 145.5001,-265.5\"/>\n</g>\n<!-- 139654775741584 -->\n<g id=\"node6\" class=\"node\">\n<title>139654775741584</title>\n<path fill=\"#d3d3d3\" stroke=\"#d3d3d3\" d=\"M300.5,-219.5C300.5,-219.5 379.5,-219.5 379.5,-219.5 385.5,-219.5 391.5,-225.5 391.5,-231.5 391.5,-231.5 391.5,-243.5 391.5,-243.5 391.5,-249.5 385.5,-255.5 379.5,-255.5 379.5,-255.5 300.5,-255.5 300.5,-255.5 294.5,-255.5 288.5,-249.5 288.5,-243.5 288.5,-243.5 288.5,-231.5 288.5,-231.5 288.5,-225.5 294.5,-219.5 300.5,-219.5\"/>\n<text text-anchor=\"middle\" x=\"298.5\" y=\"-233.8\" font-family=\"Times,serif\" font-size=\"14.00\" fill=\"#000000\"> </text>\n<polyline fill=\"none\" stroke=\"#d3d3d3\" points=\"308.5,-219.5 308.5,-255.5 \"/>\n<text text-anchor=\"middle\" x=\"340\" y=\"-233.8\" font-family=\"Times,serif\" font-size=\"14.00\" fill=\"#000000\">None: 6</text>\n<polyline fill=\"none\" stroke=\"#d3d3d3\" points=\"371.5,-219.5 371.5,-255.5 \"/>\n<text text-anchor=\"middle\" x=\"381.5\" y=\"-233.8\" font-family=\"Times,serif\" font-size=\"14.00\" fill=\"#000000\"> </text>\n</g>\n<!-- 139654775612624&#45;&gt;139654775741584 -->\n<g id=\"edge5\" class=\"edge\">\n<title>139654775612624:l&#45;&gt;139654775741584:v</title>\n<path fill=\"none\" stroke=\"#000000\" d=\"M340,-292.5C340,-280.0382 340,-274.6592 340,-265.6281\"/>\n<polygon fill=\"#000000\" stroke=\"#000000\" points=\"343.5001,-265.5 340,-255.5 336.5001,-265.5 343.5001,-265.5\"/>\n</g>\n<!-- 139654775612496 -->\n<g id=\"node7\" class=\"node\">\n<title>139654775612496</title>\n<path fill=\"#d3d3d3\" stroke=\"#d3d3d3\" d=\"M485.5,-219.5C485.5,-219.5 564.5,-219.5 564.5,-219.5 570.5,-219.5 576.5,-225.5 576.5,-231.5 576.5,-231.5 576.5,-243.5 576.5,-243.5 576.5,-249.5 570.5,-255.5 564.5,-255.5 564.5,-255.5 485.5,-255.5 485.5,-255.5 479.5,-255.5 473.5,-249.5 473.5,-243.5 473.5,-243.5 473.5,-231.5 473.5,-231.5 473.5,-225.5 479.5,-219.5 485.5,-219.5\"/>\n<text text-anchor=\"middle\" x=\"483.5\" y=\"-233.8\" font-family=\"Times,serif\" font-size=\"14.00\" fill=\"#000000\"> </text>\n<polyline fill=\"none\" stroke=\"#d3d3d3\" points=\"493.5,-219.5 493.5,-255.5 \"/>\n<text text-anchor=\"middle\" x=\"525\" y=\"-233.8\" font-family=\"Times,serif\" font-size=\"14.00\" fill=\"#000000\">None: 7</text>\n<polyline fill=\"none\" stroke=\"#d3d3d3\" points=\"556.5,-219.5 556.5,-255.5 \"/>\n<text text-anchor=\"middle\" x=\"566.5\" y=\"-233.8\" font-family=\"Times,serif\" font-size=\"14.00\" fill=\"#000000\"> </text>\n</g>\n<!-- 139654775612624&#45;&gt;139654775612496 -->\n<g id=\"edge6\" class=\"edge\">\n<title>139654775612624:r&#45;&gt;139654775612496:v</title>\n<path fill=\"none\" stroke=\"#000000\" d=\"M432,-292.5C432,-252.0122 509.0397,-291.4248 522.8828,-265.2942\"/>\n<polygon fill=\"#000000\" stroke=\"#000000\" points=\"526.308,-266.0138 525,-255.5 519.4661,-264.5347 526.308,-266.0138\"/>\n</g>\n<!-- 139654775961296 -->\n<g id=\"node8\" class=\"node\">\n<title>139654775961296</title>\n<path fill=\"#d3d3d3\" stroke=\"#d3d3d3\" d=\"M48,-146.5C48,-146.5 102,-146.5 102,-146.5 108,-146.5 114,-152.5 114,-158.5 114,-158.5 114,-170.5 114,-170.5 114,-176.5 108,-182.5 102,-182.5 102,-182.5 48,-182.5 48,-182.5 42,-182.5 36,-176.5 36,-170.5 36,-170.5 36,-158.5 36,-158.5 36,-152.5 42,-146.5 48,-146.5\"/>\n<text text-anchor=\"middle\" x=\"46\" y=\"-160.8\" font-family=\"Times,serif\" font-size=\"14.00\" fill=\"#000000\"> </text>\n<polyline fill=\"none\" stroke=\"#d3d3d3\" points=\"56,-146.5 56,-182.5 \"/>\n<text text-anchor=\"middle\" x=\"75\" y=\"-160.8\" font-family=\"Times,serif\" font-size=\"14.00\" fill=\"#000000\">a: 2</text>\n<polyline fill=\"none\" stroke=\"#d3d3d3\" points=\"94,-146.5 94,-182.5 \"/>\n<text text-anchor=\"middle\" x=\"104\" y=\"-160.8\" font-family=\"Times,serif\" font-size=\"14.00\" fill=\"#000000\"> </text>\n</g>\n<!-- 139654911973648&#45;&gt;139654775961296 -->\n<g id=\"edge7\" class=\"edge\">\n<title>139654911973648:l&#45;&gt;139654775961296:v</title>\n<path fill=\"none\" stroke=\"#000000\" d=\"M100,-219.5C100,-203.685 84.1248,-202.1824 77.6754,-192.1818\"/>\n<polygon fill=\"#000000\" stroke=\"#000000\" points=\"81.0372,-191.2065 75,-182.5 74.2901,-193.071 81.0372,-191.2065\"/>\n</g>\n<!-- 139654911974288 -->\n<g id=\"node9\" class=\"node\">\n<title>139654911974288</title>\n<path fill=\"#d3d3d3\" stroke=\"#d3d3d3\" d=\"M144.5,-146.5C144.5,-146.5 223.5,-146.5 223.5,-146.5 229.5,-146.5 235.5,-152.5 235.5,-158.5 235.5,-158.5 235.5,-170.5 235.5,-170.5 235.5,-176.5 229.5,-182.5 223.5,-182.5 223.5,-182.5 144.5,-182.5 144.5,-182.5 138.5,-182.5 132.5,-176.5 132.5,-170.5 132.5,-170.5 132.5,-158.5 132.5,-158.5 132.5,-152.5 138.5,-146.5 144.5,-146.5\"/>\n<text text-anchor=\"middle\" x=\"142.5\" y=\"-160.8\" font-family=\"Times,serif\" font-size=\"14.00\" fill=\"#000000\"> </text>\n<polyline fill=\"none\" stroke=\"#d3d3d3\" points=\"152.5,-146.5 152.5,-182.5 \"/>\n<text text-anchor=\"middle\" x=\"184\" y=\"-160.8\" font-family=\"Times,serif\" font-size=\"14.00\" fill=\"#000000\">None: 3</text>\n<polyline fill=\"none\" stroke=\"#d3d3d3\" points=\"215.5,-146.5 215.5,-182.5 \"/>\n<text text-anchor=\"middle\" x=\"225.5\" y=\"-160.8\" font-family=\"Times,serif\" font-size=\"14.00\" fill=\"#000000\"> </text>\n</g>\n<!-- 139654911973648&#45;&gt;139654911974288 -->\n<g id=\"edge8\" class=\"edge\">\n<title>139654911973648:r&#45;&gt;139654911974288:v</title>\n<path fill=\"none\" stroke=\"#000000\" d=\"M184,-219.5C184,-207.0382 184,-201.6592 184,-192.6281\"/>\n<polygon fill=\"#000000\" stroke=\"#000000\" points=\"187.5001,-192.5 184,-182.5 180.5001,-192.5 187.5001,-192.5\"/>\n</g>\n<!-- 139654911973840 -->\n<g id=\"node10\" class=\"node\">\n<title>139654911973840</title>\n<path fill=\"#d3d3d3\" stroke=\"#d3d3d3\" d=\"M266,-146.5C266,-146.5 320,-146.5 320,-146.5 326,-146.5 332,-152.5 332,-158.5 332,-158.5 332,-170.5 332,-170.5 332,-176.5 326,-182.5 320,-182.5 320,-182.5 266,-182.5 266,-182.5 260,-182.5 254,-176.5 254,-170.5 254,-170.5 254,-158.5 254,-158.5 254,-152.5 260,-146.5 266,-146.5\"/>\n<text text-anchor=\"middle\" x=\"264\" y=\"-160.8\" font-family=\"Times,serif\" font-size=\"14.00\" fill=\"#000000\"> </text>\n<polyline fill=\"none\" stroke=\"#d3d3d3\" points=\"274,-146.5 274,-182.5 \"/>\n<text text-anchor=\"middle\" x=\"293\" y=\"-160.8\" font-family=\"Times,serif\" font-size=\"14.00\" fill=\"#000000\">e: 3</text>\n<polyline fill=\"none\" stroke=\"#d3d3d3\" points=\"312,-146.5 312,-182.5 \"/>\n<text text-anchor=\"middle\" x=\"322\" y=\"-160.8\" font-family=\"Times,serif\" font-size=\"14.00\" fill=\"#000000\"> </text>\n</g>\n<!-- 139654775741584&#45;&gt;139654911973840 -->\n<g id=\"edge9\" class=\"edge\">\n<title>139654775741584:l&#45;&gt;139654911973840:v</title>\n<path fill=\"none\" stroke=\"#000000\" d=\"M298,-219.5C298,-206.9249 295.1286,-201.6901 293.7378,-192.6705\"/>\n<polygon fill=\"#000000\" stroke=\"#000000\" points=\"297.2144,-192.2205 293,-182.5 290.2328,-192.727 297.2144,-192.2205\"/>\n</g>\n<!-- 139654911972688 -->\n<g id=\"node11\" class=\"node\">\n<title>139654911972688</title>\n<path fill=\"#d3d3d3\" stroke=\"#d3d3d3\" d=\"M362,-146.5C362,-146.5 414,-146.5 414,-146.5 420,-146.5 426,-152.5 426,-158.5 426,-158.5 426,-170.5 426,-170.5 426,-176.5 420,-182.5 414,-182.5 414,-182.5 362,-182.5 362,-182.5 356,-182.5 350,-176.5 350,-170.5 350,-170.5 350,-158.5 350,-158.5 350,-152.5 356,-146.5 362,-146.5\"/>\n<text text-anchor=\"middle\" x=\"360\" y=\"-160.8\" font-family=\"Times,serif\" font-size=\"14.00\" fill=\"#000000\"> </text>\n<polyline fill=\"none\" stroke=\"#d3d3d3\" points=\"370,-146.5 370,-182.5 \"/>\n<text text-anchor=\"middle\" x=\"388\" y=\"-160.8\" font-family=\"Times,serif\" font-size=\"14.00\" fill=\"#000000\">r: 3</text>\n<polyline fill=\"none\" stroke=\"#d3d3d3\" points=\"406,-146.5 406,-182.5 \"/>\n<text text-anchor=\"middle\" x=\"416\" y=\"-160.8\" font-family=\"Times,serif\" font-size=\"14.00\" fill=\"#000000\"> </text>\n</g>\n<!-- 139654775741584&#45;&gt;139654911972688 -->\n<g id=\"edge10\" class=\"edge\">\n<title>139654775741584:r&#45;&gt;139654911972688:v</title>\n<path fill=\"none\" stroke=\"#000000\" d=\"M382,-219.5C382,-206.8754 385.4457,-201.7037 387.1147,-192.6891\"/>\n<polygon fill=\"#000000\" stroke=\"#000000\" points=\"390.6211,-192.7655 388,-182.5 383.6474,-192.1595 390.6211,-192.7655\"/>\n</g>\n<!-- 139654775739856 -->\n<g id=\"node12\" class=\"node\">\n<title>139654775739856</title>\n<path fill=\"#d3d3d3\" stroke=\"#d3d3d3\" d=\"M456,-146.5C456,-146.5 510,-146.5 510,-146.5 516,-146.5 522,-152.5 522,-158.5 522,-158.5 522,-170.5 522,-170.5 522,-176.5 516,-182.5 510,-182.5 510,-182.5 456,-182.5 456,-182.5 450,-182.5 444,-176.5 444,-170.5 444,-170.5 444,-158.5 444,-158.5 444,-152.5 450,-146.5 456,-146.5\"/>\n<text text-anchor=\"middle\" x=\"454\" y=\"-160.8\" font-family=\"Times,serif\" font-size=\"14.00\" fill=\"#000000\"> </text>\n<polyline fill=\"none\" stroke=\"#d3d3d3\" points=\"464,-146.5 464,-182.5 \"/>\n<text text-anchor=\"middle\" x=\"483\" y=\"-160.8\" font-family=\"Times,serif\" font-size=\"14.00\" fill=\"#000000\">c: 3</text>\n<polyline fill=\"none\" stroke=\"#d3d3d3\" points=\"502,-146.5 502,-182.5 \"/>\n<text text-anchor=\"middle\" x=\"512\" y=\"-160.8\" font-family=\"Times,serif\" font-size=\"14.00\" fill=\"#000000\"> </text>\n</g>\n<!-- 139654775612496&#45;&gt;139654775739856 -->\n<g id=\"edge11\" class=\"edge\">\n<title>139654775612496:l&#45;&gt;139654775739856:v</title>\n<path fill=\"none\" stroke=\"#000000\" d=\"M483,-219.5C483,-207.0382 483,-201.6592 483,-192.6281\"/>\n<polygon fill=\"#000000\" stroke=\"#000000\" points=\"486.5001,-192.5 483,-182.5 479.5001,-192.5 486.5001,-192.5\"/>\n</g>\n<!-- 139654775612432 -->\n<g id=\"node13\" class=\"node\">\n<title>139654775612432</title>\n<path fill=\"#d3d3d3\" stroke=\"#d3d3d3\" d=\"M552.5,-146.5C552.5,-146.5 631.5,-146.5 631.5,-146.5 637.5,-146.5 643.5,-152.5 643.5,-158.5 643.5,-158.5 643.5,-170.5 643.5,-170.5 643.5,-176.5 637.5,-182.5 631.5,-182.5 631.5,-182.5 552.5,-182.5 552.5,-182.5 546.5,-182.5 540.5,-176.5 540.5,-170.5 540.5,-170.5 540.5,-158.5 540.5,-158.5 540.5,-152.5 546.5,-146.5 552.5,-146.5\"/>\n<text text-anchor=\"middle\" x=\"550.5\" y=\"-160.8\" font-family=\"Times,serif\" font-size=\"14.00\" fill=\"#000000\"> </text>\n<polyline fill=\"none\" stroke=\"#d3d3d3\" points=\"560.5,-146.5 560.5,-182.5 \"/>\n<text text-anchor=\"middle\" x=\"592\" y=\"-160.8\" font-family=\"Times,serif\" font-size=\"14.00\" fill=\"#000000\">None: 4</text>\n<polyline fill=\"none\" stroke=\"#d3d3d3\" points=\"623.5,-146.5 623.5,-182.5 \"/>\n<text text-anchor=\"middle\" x=\"633.5\" y=\"-160.8\" font-family=\"Times,serif\" font-size=\"14.00\" fill=\"#000000\"> </text>\n</g>\n<!-- 139654775612496&#45;&gt;139654775612432 -->\n<g id=\"edge12\" class=\"edge\">\n<title>139654775612496:r&#45;&gt;139654775612432:v</title>\n<path fill=\"none\" stroke=\"#000000\" d=\"M567,-219.5C567,-203.685 582.8752,-202.1824 589.3246,-192.1818\"/>\n<polygon fill=\"#000000\" stroke=\"#000000\" points=\"592.7099,-193.071 592,-182.5 585.9628,-191.2065 592.7099,-193.071\"/>\n</g>\n<!-- 139654782408272 -->\n<g id=\"node14\" class=\"node\">\n<title>139654782408272</title>\n<path fill=\"#d3d3d3\" stroke=\"#d3d3d3\" d=\"M104,-73.5C104,-73.5 156,-73.5 156,-73.5 162,-73.5 168,-79.5 168,-85.5 168,-85.5 168,-97.5 168,-97.5 168,-103.5 162,-109.5 156,-109.5 156,-109.5 104,-109.5 104,-109.5 98,-109.5 92,-103.5 92,-97.5 92,-97.5 92,-85.5 92,-85.5 92,-79.5 98,-73.5 104,-73.5\"/>\n<text text-anchor=\"middle\" x=\"102\" y=\"-87.8\" font-family=\"Times,serif\" font-size=\"14.00\" fill=\"#000000\"> </text>\n<polyline fill=\"none\" stroke=\"#d3d3d3\" points=\"112,-73.5 112,-109.5 \"/>\n<text text-anchor=\"middle\" x=\"130\" y=\"-87.8\" font-family=\"Times,serif\" font-size=\"14.00\" fill=\"#000000\">I: 1</text>\n<polyline fill=\"none\" stroke=\"#d3d3d3\" points=\"148,-73.5 148,-109.5 \"/>\n<text text-anchor=\"middle\" x=\"158\" y=\"-87.8\" font-family=\"Times,serif\" font-size=\"14.00\" fill=\"#000000\"> </text>\n</g>\n<!-- 139654911974288&#45;&gt;139654782408272 -->\n<g id=\"edge13\" class=\"edge\">\n<title>139654911974288:l&#45;&gt;139654782408272:v</title>\n<path fill=\"none\" stroke=\"#000000\" d=\"M142,-146.5C142,-133.2641 134.9658,-128.7407 131.6685,-119.5888\"/>\n<polygon fill=\"#000000\" stroke=\"#000000\" points=\"135.0849,-118.7949 130,-109.5 128.1787,-119.9371 135.0849,-118.7949\"/>\n</g>\n<!-- 139654911974864 -->\n<g id=\"node15\" class=\"node\">\n<title>139654911974864</title>\n<path fill=\"#d3d3d3\" stroke=\"#d3d3d3\" d=\"M198.5,-73.5C198.5,-73.5 277.5,-73.5 277.5,-73.5 283.5,-73.5 289.5,-79.5 289.5,-85.5 289.5,-85.5 289.5,-97.5 289.5,-97.5 289.5,-103.5 283.5,-109.5 277.5,-109.5 277.5,-109.5 198.5,-109.5 198.5,-109.5 192.5,-109.5 186.5,-103.5 186.5,-97.5 186.5,-97.5 186.5,-85.5 186.5,-85.5 186.5,-79.5 192.5,-73.5 198.5,-73.5\"/>\n<text text-anchor=\"middle\" x=\"196.5\" y=\"-87.8\" font-family=\"Times,serif\" font-size=\"14.00\" fill=\"#000000\"> </text>\n<polyline fill=\"none\" stroke=\"#d3d3d3\" points=\"206.5,-73.5 206.5,-109.5 \"/>\n<text text-anchor=\"middle\" x=\"238\" y=\"-87.8\" font-family=\"Times,serif\" font-size=\"14.00\" fill=\"#000000\">None: 2</text>\n<polyline fill=\"none\" stroke=\"#d3d3d3\" points=\"269.5,-73.5 269.5,-109.5 \"/>\n<text text-anchor=\"middle\" x=\"279.5\" y=\"-87.8\" font-family=\"Times,serif\" font-size=\"14.00\" fill=\"#000000\"> </text>\n</g>\n<!-- 139654911974288&#45;&gt;139654911974864 -->\n<g id=\"edge14\" class=\"edge\">\n<title>139654911974288:r&#45;&gt;139654911974864:v</title>\n<path fill=\"none\" stroke=\"#000000\" d=\"M226,-146.5C226,-133.2641 233.0342,-128.7407 236.3315,-119.5888\"/>\n<polygon fill=\"#000000\" stroke=\"#000000\" points=\"239.8213,-119.9371 238,-109.5 232.9151,-118.7949 239.8213,-119.9371\"/>\n</g>\n<!-- 139654775611472 -->\n<g id=\"node16\" class=\"node\">\n<title>139654775611472</title>\n<path fill=\"#d3d3d3\" stroke=\"#d3d3d3\" d=\"M496.5,-73.5C496.5,-73.5 575.5,-73.5 575.5,-73.5 581.5,-73.5 587.5,-79.5 587.5,-85.5 587.5,-85.5 587.5,-97.5 587.5,-97.5 587.5,-103.5 581.5,-109.5 575.5,-109.5 575.5,-109.5 496.5,-109.5 496.5,-109.5 490.5,-109.5 484.5,-103.5 484.5,-97.5 484.5,-97.5 484.5,-85.5 484.5,-85.5 484.5,-79.5 490.5,-73.5 496.5,-73.5\"/>\n<text text-anchor=\"middle\" x=\"494.5\" y=\"-87.8\" font-family=\"Times,serif\" font-size=\"14.00\" fill=\"#000000\"> </text>\n<polyline fill=\"none\" stroke=\"#d3d3d3\" points=\"504.5,-73.5 504.5,-109.5 \"/>\n<text text-anchor=\"middle\" x=\"536\" y=\"-87.8\" font-family=\"Times,serif\" font-size=\"14.00\" fill=\"#000000\">None: 2</text>\n<polyline fill=\"none\" stroke=\"#d3d3d3\" points=\"567.5,-73.5 567.5,-109.5 \"/>\n<text text-anchor=\"middle\" x=\"577.5\" y=\"-87.8\" font-family=\"Times,serif\" font-size=\"14.00\" fill=\"#000000\"> </text>\n</g>\n<!-- 139654775612432&#45;&gt;139654775611472 -->\n<g id=\"edge15\" class=\"edge\">\n<title>139654775612432:l&#45;&gt;139654775611472:v</title>\n<path fill=\"none\" stroke=\"#000000\" d=\"M550,-146.5C550,-132.9012 541.6251,-128.7223 537.8303,-119.3918\"/>\n<polygon fill=\"#000000\" stroke=\"#000000\" points=\"541.2611,-118.6963 536,-109.5 534.3779,-119.9699 541.2611,-118.6963\"/>\n</g>\n<!-- 139654775611792 -->\n<g id=\"node17\" class=\"node\">\n<title>139654775611792</title>\n<path fill=\"#d3d3d3\" stroke=\"#d3d3d3\" d=\"M617.5,-73.5C617.5,-73.5 676.5,-73.5 676.5,-73.5 682.5,-73.5 688.5,-79.5 688.5,-85.5 688.5,-85.5 688.5,-97.5 688.5,-97.5 688.5,-103.5 682.5,-109.5 676.5,-109.5 676.5,-109.5 617.5,-109.5 617.5,-109.5 611.5,-109.5 605.5,-103.5 605.5,-97.5 605.5,-97.5 605.5,-85.5 605.5,-85.5 605.5,-79.5 611.5,-73.5 617.5,-73.5\"/>\n<text text-anchor=\"middle\" x=\"615.5\" y=\"-87.8\" font-family=\"Times,serif\" font-size=\"14.00\" fill=\"#000000\"> </text>\n<polyline fill=\"none\" stroke=\"#d3d3d3\" points=\"625.5,-73.5 625.5,-109.5 \"/>\n<text text-anchor=\"middle\" x=\"647\" y=\"-87.8\" font-family=\"Times,serif\" font-size=\"14.00\" fill=\"#000000\">m: 2</text>\n<polyline fill=\"none\" stroke=\"#d3d3d3\" points=\"668.5,-73.5 668.5,-109.5 \"/>\n<text text-anchor=\"middle\" x=\"678.5\" y=\"-87.8\" font-family=\"Times,serif\" font-size=\"14.00\" fill=\"#000000\"> </text>\n</g>\n<!-- 139654775612432&#45;&gt;139654775611792 -->\n<g id=\"edge16\" class=\"edge\">\n<title>139654775612432:r&#45;&gt;139654775611792:v</title>\n<path fill=\"none\" stroke=\"#000000\" d=\"M634,-146.5C634,-133.1552 641.6204,-128.773 645.1924,-119.6294\"/>\n<polygon fill=\"#000000\" stroke=\"#000000\" points=\"648.6887,-119.9594 647,-109.5 641.7976,-118.7296 648.6887,-119.9594\"/>\n</g>\n<!-- 139654782408336 -->\n<g id=\"node18\" class=\"node\">\n<title>139654782408336</title>\n<path fill=\"#d3d3d3\" stroke=\"#d3d3d3\" d=\"M164,-.5C164,-.5 216,-.5 216,-.5 222,-.5 228,-6.5 228,-12.5 228,-12.5 228,-24.5 228,-24.5 228,-30.5 222,-36.5 216,-36.5 216,-36.5 164,-36.5 164,-36.5 158,-36.5 152,-30.5 152,-24.5 152,-24.5 152,-12.5 152,-12.5 152,-6.5 158,-.5 164,-.5\"/>\n<text text-anchor=\"middle\" x=\"162\" y=\"-14.8\" font-family=\"Times,serif\" font-size=\"14.00\" fill=\"#000000\"> </text>\n<polyline fill=\"none\" stroke=\"#d3d3d3\" points=\"172,-.5 172,-36.5 \"/>\n<text text-anchor=\"middle\" x=\"190\" y=\"-14.8\" font-family=\"Times,serif\" font-size=\"14.00\" fill=\"#000000\">f: 1</text>\n<polyline fill=\"none\" stroke=\"#d3d3d3\" points=\"208,-.5 208,-36.5 \"/>\n<text text-anchor=\"middle\" x=\"218\" y=\"-14.8\" font-family=\"Times,serif\" font-size=\"14.00\" fill=\"#000000\"> </text>\n</g>\n<!-- 139654911974864&#45;&gt;139654782408336 -->\n<g id=\"edge17\" class=\"edge\">\n<title>139654911974864:l&#45;&gt;139654782408336:v</title>\n<path fill=\"none\" stroke=\"#000000\" d=\"M196,-73.5C196,-60.8754 192.5543,-55.7037 190.8853,-46.6891\"/>\n<polygon fill=\"#000000\" stroke=\"#000000\" points=\"194.3526,-46.1595 190,-36.5 187.3789,-46.7655 194.3526,-46.1595\"/>\n</g>\n<!-- 139654782408976 -->\n<g id=\"node19\" class=\"node\">\n<title>139654782408976</title>\n<path fill=\"#d3d3d3\" stroke=\"#d3d3d3\" d=\"M258.5,-.5C258.5,-.5 311.5,-.5 311.5,-.5 317.5,-.5 323.5,-6.5 323.5,-12.5 323.5,-12.5 323.5,-24.5 323.5,-24.5 323.5,-30.5 317.5,-36.5 311.5,-36.5 311.5,-36.5 258.5,-36.5 258.5,-36.5 252.5,-36.5 246.5,-30.5 246.5,-24.5 246.5,-24.5 246.5,-12.5 246.5,-12.5 246.5,-6.5 252.5,-.5 258.5,-.5\"/>\n<text text-anchor=\"middle\" x=\"256.5\" y=\"-14.8\" font-family=\"Times,serif\" font-size=\"14.00\" fill=\"#000000\"> </text>\n<polyline fill=\"none\" stroke=\"#d3d3d3\" points=\"266.5,-.5 266.5,-36.5 \"/>\n<text text-anchor=\"middle\" x=\"285\" y=\"-14.8\" font-family=\"Times,serif\" font-size=\"14.00\" fill=\"#000000\">s: 1</text>\n<polyline fill=\"none\" stroke=\"#d3d3d3\" points=\"303.5,-.5 303.5,-36.5 \"/>\n<text text-anchor=\"middle\" x=\"313.5\" y=\"-14.8\" font-family=\"Times,serif\" font-size=\"14.00\" fill=\"#000000\"> </text>\n</g>\n<!-- 139654911974864&#45;&gt;139654782408976 -->\n<g id=\"edge18\" class=\"edge\">\n<title>139654911974864:r&#45;&gt;139654782408976:v</title>\n<path fill=\"none\" stroke=\"#000000\" d=\"M280,-73.5C280,-60.9249 282.8714,-55.6901 284.2622,-46.6705\"/>\n<polygon fill=\"#000000\" stroke=\"#000000\" points=\"287.7672,-46.727 285,-36.5 280.7856,-46.2205 287.7672,-46.727\"/>\n</g>\n<!-- 139654775612240 -->\n<g id=\"node20\" class=\"node\">\n<title>139654775612240</title>\n<path fill=\"#d3d3d3\" stroke=\"#d3d3d3\" d=\"M462.5,-.5C462.5,-.5 513.5,-.5 513.5,-.5 519.5,-.5 525.5,-6.5 525.5,-12.5 525.5,-12.5 525.5,-24.5 525.5,-24.5 525.5,-30.5 519.5,-36.5 513.5,-36.5 513.5,-36.5 462.5,-36.5 462.5,-36.5 456.5,-36.5 450.5,-30.5 450.5,-24.5 450.5,-24.5 450.5,-12.5 450.5,-12.5 450.5,-6.5 456.5,-.5 462.5,-.5\"/>\n<text text-anchor=\"middle\" x=\"460.5\" y=\"-14.8\" font-family=\"Times,serif\" font-size=\"14.00\" fill=\"#000000\"> </text>\n<polyline fill=\"none\" stroke=\"#d3d3d3\" points=\"470.5,-.5 470.5,-36.5 \"/>\n<text text-anchor=\"middle\" x=\"488\" y=\"-14.8\" font-family=\"Times,serif\" font-size=\"14.00\" fill=\"#000000\">i: 1</text>\n<polyline fill=\"none\" stroke=\"#d3d3d3\" points=\"505.5,-.5 505.5,-36.5 \"/>\n<text text-anchor=\"middle\" x=\"515.5\" y=\"-14.8\" font-family=\"Times,serif\" font-size=\"14.00\" fill=\"#000000\"> </text>\n</g>\n<!-- 139654775611472&#45;&gt;139654775612240 -->\n<g id=\"edge19\" class=\"edge\">\n<title>139654775611472:l&#45;&gt;139654775612240:v</title>\n<path fill=\"none\" stroke=\"#000000\" d=\"M494,-73.5C494,-60.8754 490.5543,-55.7037 488.8853,-46.6891\"/>\n<polygon fill=\"#000000\" stroke=\"#000000\" points=\"492.3526,-46.1595 488,-36.5 485.3789,-46.7655 492.3526,-46.1595\"/>\n</g>\n<!-- 139654775611728 -->\n<g id=\"node21\" class=\"node\">\n<title>139654775611728</title>\n<path fill=\"#d3d3d3\" stroke=\"#d3d3d3\" d=\"M555.5,-.5C555.5,-.5 610.5,-.5 610.5,-.5 616.5,-.5 622.5,-6.5 622.5,-12.5 622.5,-12.5 622.5,-24.5 622.5,-24.5 622.5,-30.5 616.5,-36.5 610.5,-36.5 610.5,-36.5 555.5,-36.5 555.5,-36.5 549.5,-36.5 543.5,-30.5 543.5,-24.5 543.5,-24.5 543.5,-12.5 543.5,-12.5 543.5,-6.5 549.5,-.5 555.5,-.5\"/>\n<text text-anchor=\"middle\" x=\"553.5\" y=\"-14.8\" font-family=\"Times,serif\" font-size=\"14.00\" fill=\"#000000\"> </text>\n<polyline fill=\"none\" stroke=\"#d3d3d3\" points=\"563.5,-.5 563.5,-36.5 \"/>\n<text text-anchor=\"middle\" x=\"583\" y=\"-14.8\" font-family=\"Times,serif\" font-size=\"14.00\" fill=\"#000000\">o: 1</text>\n<polyline fill=\"none\" stroke=\"#d3d3d3\" points=\"602.5,-.5 602.5,-36.5 \"/>\n<text text-anchor=\"middle\" x=\"612.5\" y=\"-14.8\" font-family=\"Times,serif\" font-size=\"14.00\" fill=\"#000000\"> </text>\n</g>\n<!-- 139654775611472&#45;&gt;139654775611728 -->\n<g id=\"edge20\" class=\"edge\">\n<title>139654775611472:r&#45;&gt;139654775611728:v</title>\n<path fill=\"none\" stroke=\"#000000\" d=\"M578,-73.5C578,-60.9249 580.8714,-55.6901 582.2622,-46.6705\"/>\n<polygon fill=\"#000000\" stroke=\"#000000\" points=\"585.7672,-46.727 583,-36.5 578.7856,-46.2205 585.7672,-46.727\"/>\n</g>\n</g>\n</svg>\n"
          },
          "metadata": {},
          "execution_count": 25
        }
      ]
    },
    {
      "cell_type": "code",
      "source": [
        "def Huffman_decoding(root, string):\n",
        "  current_node = root\n",
        "  decoded_string = ''\n",
        "\n",
        "  \n",
        "  for el in string:\n",
        "         \n",
        "    if el == '0':\n",
        "      current_node = current_node.left\n",
        "      \n",
        "    else:\n",
        "      current_node = current_node.right\n",
        "      \n",
        "    if current_node.left is None and current_node.right is None:\n",
        "      decoded_string += current_node.symbol\n",
        "      current_node = root\n",
        "\n",
        "  return decoded_string"
      ],
      "metadata": {
        "id": "UeqMEF9y3cGU"
      },
      "execution_count": 17,
      "outputs": []
    },
    {
      "cell_type": "code",
      "source": [
        "Huffman_decoding(root, coded_string)"
      ],
      "metadata": {
        "colab": {
          "base_uri": "https://localhost:8080/",
          "height": 36
        },
        "id": "z71R2_v3Fj70",
        "outputId": "4493dd29-f425-4b04-c31b-3a8fd09034b2"
      },
      "execution_count": 26,
      "outputs": [
        {
          "output_type": "execute_result",
          "data": {
            "text/plain": [
              "'I scream for ice cream'"
            ],
            "application/vnd.google.colaboratory.intrinsic+json": {
              "type": "string"
            }
          },
          "metadata": {},
          "execution_count": 26
        }
      ]
    }
  ]
}