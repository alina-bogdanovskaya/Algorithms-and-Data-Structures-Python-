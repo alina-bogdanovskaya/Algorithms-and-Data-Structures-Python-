{
  "nbformat": 4,
  "nbformat_minor": 0,
  "metadata": {
    "colab": {
      "name": "Lesson9_task1_count_substrings.ipynb",
      "provenance": [],
      "collapsed_sections": [],
      "authorship_tag": "ABX9TyNaN1HAYFb+BHdGQXcNTm8n",
      "include_colab_link": true
    },
    "kernelspec": {
      "name": "python3",
      "display_name": "Python 3"
    },
    "language_info": {
      "name": "python"
    }
  },
  "cells": [
    {
      "cell_type": "markdown",
      "metadata": {
        "id": "view-in-github",
        "colab_type": "text"
      },
      "source": [
        "<a href=\"https://colab.research.google.com/github/alina-bogdanovskaya/Algorithms-and-Data-Structures-Python-/blob/lesson9/Lesson9_task1_count_substrings.ipynb\" target=\"_parent\"><img src=\"https://colab.research.google.com/assets/colab-badge.svg\" alt=\"Open In Colab\"/></a>"
      ]
    },
    {
      "cell_type": "markdown",
      "source": [
        "1. Определение количества различных подстрок с использованием хеш-функции. Пусть на вход функции дана строка. Требуется вернуть количество различных подстрок в этой строке.\n",
        "\n",
        "Примечания:\n",
        "* в сумму не включаем пустую строку и строку целиком;\n",
        "* без использования функций для вычисления хэша (hash(), sha1() или любой другой из модуля hashlib задача считается не решённой."
      ],
      "metadata": {
        "id": "5oIN5rVgceKM"
      }
    },
    {
      "cell_type": "code",
      "source": [
        "def count_unique_substrings(string):\n",
        "  unique_substr = [[] for _ in range(1024)]\n",
        "  length = len(string)\n",
        "\n",
        "  for sub_len in range(length-1, 0, -1):\n",
        "    \n",
        "    for start in range(length - sub_len + 1):\n",
        "      sub_str = string[start : start + sub_len]\n",
        "      sub_hash = hash(sub_str) % 1024\n",
        "      \n",
        "      if sub_str not in unique_substr[sub_hash]:\n",
        "        unique_substr[sub_hash].append(sub_str)\n",
        "      \n",
        "      # print(sub_str, sub_hash)\n",
        "\n",
        "  return sum(map(len, unique_substr))\n"
      ],
      "metadata": {
        "id": "IaCYMgkIs2tg"
      },
      "execution_count": 5,
      "outputs": []
    },
    {
      "cell_type": "code",
      "execution_count": 1,
      "metadata": {
        "id": "2oHsftxTcZak"
      },
      "outputs": [],
      "source": [
        "my_str = 'alibaba'\n",
        "my_str_2 = 'paraparataratararam'\n"
      ]
    },
    {
      "cell_type": "code",
      "source": [
        "count_unique_substrings(my_str)"
      ],
      "metadata": {
        "id": "gJlShk4bekM5",
        "colab": {
          "base_uri": "https://localhost:8080/"
        },
        "outputId": "2342412a-8ae9-41a7-f047-cb19beb2fc80"
      },
      "execution_count": 6,
      "outputs": [
        {
          "output_type": "execute_result",
          "data": {
            "text/plain": [
              "23"
            ]
          },
          "metadata": {},
          "execution_count": 6
        }
      ]
    },
    {
      "cell_type": "code",
      "source": [
        "count_unique_substrings(my_str_2)"
      ],
      "metadata": {
        "colab": {
          "base_uri": "https://localhost:8080/"
        },
        "id": "9wZ58QAPVeqo",
        "outputId": "d92c5623-ab27-48b1-b312-94346737645c"
      },
      "execution_count": 7,
      "outputs": [
        {
          "output_type": "execute_result",
          "data": {
            "text/plain": [
              "145"
            ]
          },
          "metadata": {},
          "execution_count": 7
        }
      ]
    }
  ]
}