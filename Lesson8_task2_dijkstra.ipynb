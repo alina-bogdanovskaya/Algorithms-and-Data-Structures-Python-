{
  "nbformat": 4,
  "nbformat_minor": 0,
  "metadata": {
    "colab": {
      "name": "Lesson8_task2_dijkstra.ipynb",
      "provenance": [],
      "authorship_tag": "ABX9TyMdJ2PnnkQtk4dcteM27He3",
      "include_colab_link": true
    },
    "kernelspec": {
      "name": "python3",
      "display_name": "Python 3"
    },
    "language_info": {
      "name": "python"
    }
  },
  "cells": [
    {
      "cell_type": "markdown",
      "metadata": {
        "id": "view-in-github",
        "colab_type": "text"
      },
      "source": [
        "<a href=\"https://colab.research.google.com/github/alina-bogdanovskaya/Algorithms-and-Data-Structures-Python-/blob/lesson8/Lesson8_task2_dijkstra.ipynb\" target=\"_parent\"><img src=\"https://colab.research.google.com/assets/colab-badge.svg\" alt=\"Open In Colab\"/></a>"
      ]
    },
    {
      "cell_type": "markdown",
      "source": [
        "2. Доработать алгоритм Дейкстры (рассматривался на уроке), чтобы он дополнительно возвращал список вершин, которые необходимо обойти."
      ],
      "metadata": {
        "id": "zgt3BVDqxfSF"
      }
    },
    {
      "cell_type": "code",
      "execution_count": 6,
      "metadata": {
        "id": "sViGHcB3xUOu"
      },
      "outputs": [],
      "source": [
        "from collections import deque, defaultdict\n",
        "import matplotlib.pyplot as plt\n",
        "import networkx as nx\n",
        "import numpy as np"
      ]
    },
    {
      "cell_type": "code",
      "source": [
        "gr = [[0, 0, 1, 1, 9, 0, 0, 0], \n",
        "      [0, 0, 9, 4, 0, 0, 5, 0],\n",
        "      [0, 9, 0, 0, 3, 0, 6, 0], \n",
        "      [0, 0, 0, 0, 0, 0, 0, 0],\n",
        "      [0, 0, 0, 0, 0, 0, 1, 0], \n",
        "      [0, 0, 0, 0, 0, 0, 5, 0],\n",
        "      [0, 0, 7, 0, 8, 1, 0, 0],\n",
        "      [0, 0, 0, 0, 0, 1, 2, 0]]"
      ],
      "metadata": {
        "id": "rpFwWmEDx9aH"
      },
      "execution_count": 7,
      "outputs": []
    },
    {
      "cell_type": "code",
      "source": [
        "A = np.array(gr)\n",
        "G = nx.from_numpy_matrix(A, create_using=nx.DiGraph) \n",
        "layout = nx.circular_layout(G)\n",
        "nx.draw(G, layout, node_color = 'cyan', with_labels = True)\n",
        "labels = nx.get_edge_attributes(G, \"weight\")\n",
        "nx.draw_networkx_edge_labels(G, pos=layout, edge_labels=labels)"
      ],
      "metadata": {
        "colab": {
          "base_uri": "https://localhost:8080/",
          "height": 610
        },
        "id": "MKsYg1RXO0zK",
        "outputId": "d204ca1e-490c-4f40-80a7-be3684d94a15"
      },
      "execution_count": 8,
      "outputs": [
        {
          "output_type": "execute_result",
          "data": {
            "text/plain": [
              "{(0, 2): Text(0.4999999913068337, 0.5000000052158999, '1'),\n",
              " (0, 3): Text(0.14644663792737422, 0.3535533936135803, '1'),\n",
              " (0, 4): Text(2.632505458066703e-08, -2.5332959951238047e-08, '9'),\n",
              " (1, 2): Text(0.35355337970451406, 0.853553380451053, '9'),\n",
              " (1, 3): Text(2.632505458066703e-08, 0.7071067688487334, '4'),\n",
              " (1, 6): Text(0.3535534075226478, -0.14644659322389242, '5'),\n",
              " (2, 1): Text(0.35355337970451406, 0.853553380451053, '9'),\n",
              " (2, 4): Text(-0.4999999823681117, 0.49999996150451276, '3'),\n",
              " (2, 6): Text(1.0431801148065664e-08, 1.83784272245191e-08, '6'),\n",
              " (4, 6): Text(-0.499999954549978, -0.5000000121704327, '1'),\n",
              " (5, 6): Text(-0.35355337274997994, -0.8535533138918769, '5'),\n",
              " (6, 2): Text(1.0431801148065664e-08, 1.83784272245191e-08, '7'),\n",
              " (6, 4): Text(-0.499999954549978, -0.5000000121704327, '8'),\n",
              " (6, 5): Text(-0.35355337274997994, -0.8535533138918769, '1'),\n",
              " (7, 5): Text(-6.308191025095056e-08, -0.7071067618942005, '1'),\n",
              " (7, 6): Text(0.3535533479180046, -0.8535534032988418, '2')}"
            ]
          },
          "metadata": {},
          "execution_count": 8
        },
        {
          "output_type": "display_data",
          "data": {
            "text/plain": [
              "<Figure size 432x288 with 1 Axes>"
            ],
            "image/png": "[encoded data removed]"
          },
          "metadata": {}
        }
      ]
    },
    {
      "cell_type": "code",
      "source": [
        "def Dijkstra(graph, start):\n",
        "  n = len(graph)\n",
        "  is_visited = [False for _ in range(n)]\n",
        "  all_costs = [float('inf') for _ in range(n)]\n",
        "  all_costs[start] = 0\n",
        "  parent = [None for _ in range(n)]\n",
        "  parent[start] = start\n",
        "\n",
        "  while True:\n",
        "    min_cost = float('inf')\n",
        "    current = None\n",
        "    for i, cost in enumerate(all_costs):\n",
        "      if cost < min_cost and not is_visited[i]:\n",
        "        min_cost = cost\n",
        "        current = i\n",
        "            \n",
        "    if current == None:\n",
        "      break\n",
        "\n",
        "    is_visited[current] = True\n",
        "\n",
        "    for j, add_cost in enumerate(graph[current]):\n",
        "      if is_visited[j] or add_cost == 0:\n",
        "        continue\n",
        "      \n",
        "      total_cost = min_cost + add_cost\n",
        "\n",
        "      if all_costs[j] > total_cost:\n",
        "        all_costs[j] = total_cost\n",
        "        parent[j] = current\n",
        "\n",
        "\n",
        "  nodes_to_visit = defaultdict()\n",
        "  \n",
        "  for v in range(n):\n",
        "    if parent[v] is None:\n",
        "      nodes_to_visit[v] = \"No way\"\n",
        "      continue\n",
        "    \n",
        "    way = deque()\n",
        "    way.append(v)\n",
        "    current_node = v\n",
        "\n",
        "    while way[0] != start:\n",
        "      way.appendleft(parent[way[0]])\n",
        "    \n",
        "    nodes_to_visit[v] = (way, all_costs[v])\n",
        "\n",
        "  return nodes_to_visit\n"
      ],
      "metadata": {
        "id": "UuVoSA5lH-Fy"
      },
      "execution_count": 9,
      "outputs": []
    },
    {
      "cell_type": "code",
      "source": [
        "start = int(input('Enter vertex: '))\n",
        "Dijkstra(gr, start)"
      ],
      "metadata": {
        "colab": {
          "base_uri": "https://localhost:8080/"
        },
        "id": "i_bACb1BZef7",
        "outputId": "406f1f95-5548-43e7-c2f8-1a30f95c61b8"
      },
      "execution_count": 10,
      "outputs": [
        {
          "name": "stdout",
          "output_type": "stream",
          "text": [
            "Enter vertex: 7\n"
          ]
        },
        {
          "output_type": "execute_result",
          "data": {
            "text/plain": [
              "defaultdict(None,\n",
              "            {0: 'No way',\n",
              "             1: (deque([7, 6, 2, 1]), 18),\n",
              "             2: (deque([7, 6, 2]), 9),\n",
              "             3: (deque([7, 6, 2, 1, 3]), 22),\n",
              "             4: (deque([7, 6, 4]), 10),\n",
              "             5: (deque([7, 5]), 1),\n",
              "             6: (deque([7, 6]), 2),\n",
              "             7: (deque([7]), 0)})"
            ]
          },
          "metadata": {},
          "execution_count": 10
        }
      ]
    }
  ]
}